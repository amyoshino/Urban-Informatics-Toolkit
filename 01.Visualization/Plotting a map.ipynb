{
 "cells": [
  {
   "cell_type": "markdown",
   "metadata": {},
   "source": [
    "## Plotting maps\n",
    "\n",
    "This notebook is about plotting maps (and points on map) using different packages. I used this code a lot of times to build maps and I think can be helpful as an initial guide to the ones that are learning the basics. The examples here will use different packages:\n",
    "\n",
    "- Folium: https://github.com/python-visualization/folium\n",
    "- Plotting Shapefiles with Matplotlib and Geopandas: http://geopandas.org/mapping.html\n",
    "\n",
    "All the code compiled in this notebook came from documentation examples and might have been changed a little bit to fit at my purposes in the plot.\n"
   ]
  },
  {
   "cell_type": "code",
   "execution_count": 1,
   "metadata": {
    "collapsed": true
   },
   "outputs": [],
   "source": [
    "from __future__ import print_function\n",
    "import pandas as pd\n",
    "import geopandas as gpd\n",
    "import matplotlib.pyplot as plt\n",
    "import folium\n",
    "from geopy.geocoders import Nominatim\n",
    "\n",
    "%matplotlib inline"
   ]
  },
  {
   "cell_type": "markdown",
   "metadata": {},
   "source": [
    "### Example 1: Plotting points in a map with Folium"
   ]
  },
  {
   "cell_type": "markdown",
   "metadata": {},
   "source": [
    "Code inspired in a workshop taught by https://github.com/polong-lin (IBM data science instructor)\n",
    "\n",
    "Given addresses or latitude/longitude, Folium can plot points on a map in a beautiful manner, allowing the user to change the basemap. To this example, we are also going to transform an address into latitude and longitude point using Nominatim package.\n"
   ]
  },
  {
   "cell_type": "code",
   "execution_count": 2,
   "metadata": {
    "collapsed": false
   },
   "outputs": [
    {
     "name": "stdout",
     "output_type": "stream",
     "text": [
      "40.7739694 -73.9636632 40.777307375 -73.96153\n"
     ]
    }
   ],
   "source": [
    "# given addresses, let's get latitude and longitude of those\n",
    "address_U1 = \"960 Madison Avenue New York, NY\"\n",
    "address_U2 = \"1060 Madison Avenue New York, NY\"\n",
    "\n",
    "# Geolocator translate addrss into lat, lon\n",
    "geolocator = Nominatim()\n",
    "location_U1 = geolocator.geocode(address_U1)\n",
    "location_U2 = geolocator.geocode(address_U2)\n",
    "latitude_U1, longitude_U1 = (location_U1.latitude, location_U1.longitude)\n",
    "latitude_U2, longitude_U2 = (location_U2.latitude, location_U2.longitude)\n",
    "print (latitude_U1, longitude_U1, latitude_U2, longitude_U2)"
   ]
  },
  {
   "cell_type": "code",
   "execution_count": 3,
   "metadata": {
    "collapsed": false
   },
   "outputs": [],
   "source": [
    "# Create a map centered in a location chosen by the user (in this case 40.765937,-73.977304)\n",
    "map_nyc = folium.Map(location=[40.7739694, -73.9636632], zoom_start=13)\n",
    "\n",
    "# For every point to be plotted, add its location and if desired, a label can be shown if you click on the point\n",
    "folium.CircleMarker([latitude_U1, longitude_U1], color = 'blue',\n",
    "                    radius = 7, popup=\"John's House\").add_to(map_nyc)\n",
    "folium.CircleMarker([latitude_U2, longitude_U2], color = 'green',\n",
    "                    radius = 7, popup=\"Jack's House\").add_to(map_nyc)\n",
    "\n",
    "map_nyc"
   ]
  },
  {
   "cell_type": "markdown",
   "metadata": {},
   "source": [
    "<img src=\"Folium1.png\">"
   ]
  },
  {
   "cell_type": "markdown",
   "metadata": {},
   "source": [
    "- Adding marker to points;\n",
    "- Creating for loop to create points instead of coding a line for each point;"
   ]
  },
  {
   "cell_type": "markdown",
   "metadata": {},
   "source": [
    "Let's say that we want to plot a restaurants near a certain point, and show them with markers and when clicked show the name of the restaurant"
   ]
  },
  {
   "cell_type": "code",
   "execution_count": 4,
   "metadata": {
    "collapsed": true
   },
   "outputs": [],
   "source": [
    "# This dataset I got from Foursquare API. \n",
    "restaurants = pd.read_csv('Data/restaurants.csv')"
   ]
  },
  {
   "cell_type": "code",
   "execution_count": 5,
   "metadata": {
    "collapsed": false
   },
   "outputs": [
    {
     "data": {
      "text/html": [
       "<div>\n",
       "<table border=\"1\" class=\"dataframe\">\n",
       "  <thead>\n",
       "    <tr style=\"text-align: right;\">\n",
       "      <th></th>\n",
       "      <th>Unnamed: 0</th>\n",
       "      <th>name</th>\n",
       "      <th>url</th>\n",
       "      <th>categories</th>\n",
       "      <th>rating</th>\n",
       "      <th>id</th>\n",
       "      <th>isOpen</th>\n",
       "      <th>tier</th>\n",
       "      <th>address</th>\n",
       "      <th>cc</th>\n",
       "      <th>city</th>\n",
       "      <th>country</th>\n",
       "      <th>crossStreet</th>\n",
       "      <th>distance</th>\n",
       "      <th>formattedAddress</th>\n",
       "      <th>labeledLatLngs</th>\n",
       "      <th>lat</th>\n",
       "      <th>lng</th>\n",
       "      <th>postalCode</th>\n",
       "      <th>state</th>\n",
       "    </tr>\n",
       "  </thead>\n",
       "  <tbody>\n",
       "    <tr>\n",
       "      <th>0</th>\n",
       "      <td>1</td>\n",
       "      <td>Kafana</td>\n",
       "      <td>http://www.kafananyc.com</td>\n",
       "      <td>b'Eastern European Restaurant'</td>\n",
       "      <td>8.9</td>\n",
       "      <td>49e8896cf964a5204e651fe3</td>\n",
       "      <td>False</td>\n",
       "      <td>3</td>\n",
       "      <td>116 Avenue C</td>\n",
       "      <td>US</td>\n",
       "      <td>New York</td>\n",
       "      <td>United States</td>\n",
       "      <td>at E 8th St</td>\n",
       "      <td>312</td>\n",
       "      <td>['116 Avenue C (at E 8th St)', 'New York, NY 1...</td>\n",
       "      <td>[{'lat': 40.72445009594483, 'lng': -73.9786382...</td>\n",
       "      <td>40.724450</td>\n",
       "      <td>-73.978638</td>\n",
       "      <td>10009.0</td>\n",
       "      <td>NY</td>\n",
       "    </tr>\n",
       "    <tr>\n",
       "      <th>1</th>\n",
       "      <td>11</td>\n",
       "      <td>Gruppo</td>\n",
       "      <td>http://www.gruppothincrust.com/</td>\n",
       "      <td>b'Pizza Place'</td>\n",
       "      <td>8.8</td>\n",
       "      <td>3fd66200f964a5203ce51ee3</td>\n",
       "      <td>False</td>\n",
       "      <td>2</td>\n",
       "      <td>98 Avenue B</td>\n",
       "      <td>US</td>\n",
       "      <td>New York</td>\n",
       "      <td>United States</td>\n",
       "      <td>btwn 6th &amp; 7th Sts</td>\n",
       "      <td>499</td>\n",
       "      <td>['98 Avenue B (btwn 6th &amp; 7th Sts)', 'New York...</td>\n",
       "      <td>[{'lat': 40.724949645619056, 'lng': -73.981332...</td>\n",
       "      <td>40.724950</td>\n",
       "      <td>-73.981333</td>\n",
       "      <td>10009.0</td>\n",
       "      <td>NY</td>\n",
       "    </tr>\n",
       "    <tr>\n",
       "      <th>2</th>\n",
       "      <td>12</td>\n",
       "      <td>Ciao For Now</td>\n",
       "      <td>http://ciaofornow.net/?page=home</td>\n",
       "      <td>b'Caf'</td>\n",
       "      <td>8.6</td>\n",
       "      <td>3fd66200f964a5203fe51ee3</td>\n",
       "      <td>False</td>\n",
       "      <td>2</td>\n",
       "      <td>523 E 12th St</td>\n",
       "      <td>US</td>\n",
       "      <td>New York</td>\n",
       "      <td>United States</td>\n",
       "      <td>btwn Avenue B &amp; Avenue A</td>\n",
       "      <td>491</td>\n",
       "      <td>['523 E 12th St (btwn Avenue B &amp; Avenue A)', '...</td>\n",
       "      <td>[{'lat': 40.728625692654504, 'lng': -73.980319...</td>\n",
       "      <td>40.728626</td>\n",
       "      <td>-73.980320</td>\n",
       "      <td>10009.0</td>\n",
       "      <td>NY</td>\n",
       "    </tr>\n",
       "    <tr>\n",
       "      <th>3</th>\n",
       "      <td>16</td>\n",
       "      <td>Eleven B</td>\n",
       "      <td>http://www.elevenbnyc.com</td>\n",
       "      <td>b'Italian Restaurant'</td>\n",
       "      <td>6.5</td>\n",
       "      <td>4ae1b55df964a520df8621e3</td>\n",
       "      <td>False</td>\n",
       "      <td>2</td>\n",
       "      <td>174 Avenue B</td>\n",
       "      <td>US</td>\n",
       "      <td>New York</td>\n",
       "      <td>United States</td>\n",
       "      <td>11th Street</td>\n",
       "      <td>366</td>\n",
       "      <td>['174 Avenue B (11th Street)', 'New York, NY 1...</td>\n",
       "      <td>[{'lat': 40.727518, 'lng': -73.979478, 'label'...</td>\n",
       "      <td>40.727518</td>\n",
       "      <td>-73.979478</td>\n",
       "      <td>10009.0</td>\n",
       "      <td>NY</td>\n",
       "    </tr>\n",
       "    <tr>\n",
       "      <th>4</th>\n",
       "      <td>29</td>\n",
       "      <td>Housewarmings!</td>\n",
       "      <td>NaN</td>\n",
       "      <td>b'Gastropub'</td>\n",
       "      <td>NaN</td>\n",
       "      <td>515392c4e4b0f03a43c69fce</td>\n",
       "      <td>NaN</td>\n",
       "      <td>3</td>\n",
       "      <td>NaN</td>\n",
       "      <td>US</td>\n",
       "      <td>New York</td>\n",
       "      <td>United States</td>\n",
       "      <td>NaN</td>\n",
       "      <td>493</td>\n",
       "      <td>['New York, NY', 'United States']</td>\n",
       "      <td>[{'lat': 40.72523709670373, 'lng': -73.9813471...</td>\n",
       "      <td>40.725237</td>\n",
       "      <td>-73.981347</td>\n",
       "      <td>NaN</td>\n",
       "      <td>NY</td>\n",
       "    </tr>\n",
       "  </tbody>\n",
       "</table>\n",
       "</div>"
      ],
      "text/plain": [
       "   Unnamed: 0            name                               url  \\\n",
       "0           1          Kafana          http://www.kafananyc.com   \n",
       "1          11          Gruppo   http://www.gruppothincrust.com/   \n",
       "2          12    Ciao For Now  http://ciaofornow.net/?page=home   \n",
       "3          16        Eleven B         http://www.elevenbnyc.com   \n",
       "4          29  Housewarmings!                               NaN   \n",
       "\n",
       "                       categories  rating                        id isOpen  \\\n",
       "0  b'Eastern European Restaurant'     8.9  49e8896cf964a5204e651fe3  False   \n",
       "1                  b'Pizza Place'     8.8  3fd66200f964a5203ce51ee3  False   \n",
       "2                          b'Caf'     8.6  3fd66200f964a5203fe51ee3  False   \n",
       "3           b'Italian Restaurant'     6.5  4ae1b55df964a520df8621e3  False   \n",
       "4                    b'Gastropub'     NaN  515392c4e4b0f03a43c69fce    NaN   \n",
       "\n",
       "   tier        address  cc      city        country               crossStreet  \\\n",
       "0     3   116 Avenue C  US  New York  United States               at E 8th St   \n",
       "1     2    98 Avenue B  US  New York  United States        btwn 6th & 7th Sts   \n",
       "2     2  523 E 12th St  US  New York  United States  btwn Avenue B & Avenue A   \n",
       "3     2   174 Avenue B  US  New York  United States               11th Street   \n",
       "4     3            NaN  US  New York  United States                       NaN   \n",
       "\n",
       "   distance                                   formattedAddress  \\\n",
       "0       312  ['116 Avenue C (at E 8th St)', 'New York, NY 1...   \n",
       "1       499  ['98 Avenue B (btwn 6th & 7th Sts)', 'New York...   \n",
       "2       491  ['523 E 12th St (btwn Avenue B & Avenue A)', '...   \n",
       "3       366  ['174 Avenue B (11th Street)', 'New York, NY 1...   \n",
       "4       493                  ['New York, NY', 'United States']   \n",
       "\n",
       "                                      labeledLatLngs        lat        lng  \\\n",
       "0  [{'lat': 40.72445009594483, 'lng': -73.9786382...  40.724450 -73.978638   \n",
       "1  [{'lat': 40.724949645619056, 'lng': -73.981332...  40.724950 -73.981333   \n",
       "2  [{'lat': 40.728625692654504, 'lng': -73.980319...  40.728626 -73.980320   \n",
       "3  [{'lat': 40.727518, 'lng': -73.979478, 'label'...  40.727518 -73.979478   \n",
       "4  [{'lat': 40.72523709670373, 'lng': -73.9813471...  40.725237 -73.981347   \n",
       "\n",
       "   postalCode state  \n",
       "0     10009.0    NY  \n",
       "1     10009.0    NY  \n",
       "2     10009.0    NY  \n",
       "3     10009.0    NY  \n",
       "4         NaN    NY  "
      ]
     },
     "execution_count": 5,
     "metadata": {},
     "output_type": "execute_result"
    }
   ],
   "source": [
    "restaurants.head()"
   ]
  },
  {
   "cell_type": "code",
   "execution_count": 6,
   "metadata": {
    "collapsed": false
   },
   "outputs": [],
   "source": [
    "# Code inspired on material from IBM Workshop by Alex Aklson - https://www.linkedin.com/in/aklson/\n",
    "venues_map = folium.Map(location=[40.724450, -73.978638], zoom_start=15) # generate map\n",
    "\n",
    "# Creating restaurants on map\n",
    "places = folium.map.FeatureGroup()\n",
    "for lat, lng, in zip(restaurants.lat, restaurants.lng):\n",
    "    places.add_child(\n",
    "        folium.features.CircleMarker(\n",
    "            [lat, lng],\n",
    "            radius=5,\n",
    "            color=\"blue\",\n",
    "            fill_color=\"blue\",\n",
    "            fill_opacity=0.6)\n",
    "        )\n",
    "venues_map.add_child(places)\n",
    "\n",
    "\n",
    "# add labels to each point on the map\n",
    "latitudes_list = list(restaurants.lat)\n",
    "longitudes_list = list(restaurants.lng)\n",
    "labels = list(restaurants.name)\n",
    "\n",
    "for lat, lng, label in zip(latitudes_list, longitudes_list, labels):\n",
    "    folium.Marker([lat, lng], popup=label).add_to(venues_map)\n",
    "\n",
    "# display map\n",
    "venues_map"
   ]
  },
  {
   "cell_type": "markdown",
   "metadata": {},
   "source": [
    "<img src=\"Folium2.png\">"
   ]
  },
  {
   "cell_type": "code",
   "execution_count": null,
   "metadata": {
    "collapsed": true
   },
   "outputs": [],
   "source": []
  }
 ],
 "metadata": {
  "anaconda-cloud": {},
  "kernelspec": {
   "display_name": "Python 2",
   "language": "python",
   "name": "python2"
  },
  "language_info": {
   "codemirror_mode": {
    "name": "ipython",
    "version": 2
   },
   "file_extension": ".py",
   "mimetype": "text/x-python",
   "name": "python",
   "nbconvert_exporter": "python",
   "pygments_lexer": "ipython2",
   "version": "2.7.12"
  }
 },
 "nbformat": 4,
 "nbformat_minor": 1
}
