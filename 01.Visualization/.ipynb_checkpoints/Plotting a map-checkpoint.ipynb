{
 "cells": [
  {
   "cell_type": "markdown",
   "metadata": {},
   "source": [
    "## Plotting maps\n",
    "\n",
    "This notebook is about plotting maps (and points on map) using different packages. I used this code a lot of times to build maps and I think can be helpful as an initial guide to the ones that are learning the basics. The examples here will use different packages:\n",
    "\n",
    "- Folium: https://github.com/python-visualization/folium\n",
    "- Plotting Shapefiles with Matplotlib and Geopandas: http://geopandas.org/mapping.html\n",
    "\n",
    "All the code compiled in this notebook came from documentation examples and might have been changed a little bit to fit at my purposes in the plot.\n"
   ]
  },
  {
   "cell_type": "code",
   "execution_count": 4,
   "metadata": {
    "collapsed": true
   },
   "outputs": [],
   "source": [
    "from __future__ import print_function\n",
    "import pandas as pd\n",
    "import geopandas as gpd\n",
    "import matplotlib.pyplot as plt\n",
    "import folium\n",
    "from geopy.geocoders import Nominatim\n",
    "\n",
    "%matplotlib inline"
   ]
  },
  {
   "cell_type": "markdown",
   "metadata": {},
   "source": [
    "### Example 1: Plotting points in a map with Folium"
   ]
  },
  {
   "cell_type": "markdown",
   "metadata": {},
   "source": [
    "Code inspired in a workshop taught by https://github.com/polong-lin (IBM data science instructor)\n",
    "\n",
    "Given addresses or latitude/longitude, Folium can plot points on a map in a beautiful manner, allowing the user to change the basemap. To this example, we are also going to transform an address into latitude and longitude point using Nominatim package.\n"
   ]
  },
  {
   "cell_type": "code",
   "execution_count": 20,
   "metadata": {
    "collapsed": false
   },
   "outputs": [
    {
     "name": "stdout",
     "output_type": "stream",
     "text": [
      "40.7739694 -73.9636632 40.777307375 -73.96153\n"
     ]
    }
   ],
   "source": [
    "# given addresses, let's get latitude and longitude of those\n",
    "address_U1 = \"960 Madison Avenue New York, NY\"\n",
    "address_U2 = \"1060 Madison Avenue New York, NY\"\n",
    "\n",
    "# Geolocator translate addrss into lat, lon\n",
    "geolocator = Nominatim()\n",
    "location_U1 = geolocator.geocode(address_U1)\n",
    "location_U2 = geolocator.geocode(address_U2)\n",
    "latitude_U1, longitude_U1 = (location_U1.latitude, location_U1.longitude)\n",
    "latitude_U2, longitude_U2 = (location_U2.latitude, location_U2.longitude)\n",
    "print (latitude_U1, longitude_U1, latitude_U2, longitude_U2)"
   ]
  },
  {
   "cell_type": "code",
   "execution_count": 37,
   "metadata": {
    "collapsed": false
   },
   "outputs": [
    {
     "data": {
      "text/html": [
       "<div style=\"width:100%;\"><div style=\"position:relative;width:100%;height:0;padding-bottom:60%;\"><iframe src=\"data:text/html;charset=utf-8;base64,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\" style=\"position:absolute;width:100%;height:100%;left:0;top:0;border:none !important;\" allowfullscreen webkitallowfullscreen mozallowfullscreen></iframe></div></div>"
      ],
      "text/plain": [
       "<folium.folium.Map at 0x1110ee250>"
      ]
     },
     "execution_count": 37,
     "metadata": {},
     "output_type": "execute_result"
    }
   ],
   "source": [
    "# Create a map centered in a location chosen by the user (in this case 40.765937,-73.977304)\n",
    "map_nyc = folium.Map(location=[40.7739694, -73.9636632], zoom_start=13)\n",
    "\n",
    "# For every point to be plotted, add its location and if desired, a label can be shown if you click on the point\n",
    "folium.CircleMarker([latitude_U1, longitude_U1], color = 'blue',\n",
    "                    radius = 7, popup=\"John's House\").add_to(map_nyc)\n",
    "folium.CircleMarker([latitude_U2, longitude_U2], color = 'green',\n",
    "                    radius = 7, popup=\"Jack's House\").add_to(map_nyc)\n",
    "\n",
    "map_nyc"
   ]
  },
  {
   "cell_type": "markdown",
   "metadata": {},
   "source": [
    "- Adding marker to points;\n",
    "- Creating for loop to create points instead of coding a line for each point;"
   ]
  },
  {
   "cell_type": "markdown",
   "metadata": {},
   "source": [
    "Let's say that we want to plot a restaurants near a certain point, and show them with markers and when clicked show the name of the restaurant"
   ]
  },
  {
   "cell_type": "code",
   "execution_count": 29,
   "metadata": {
    "collapsed": true
   },
   "outputs": [],
   "source": [
    "# This dataset I got from Foursquare API. \n",
    "restaurants = pd.read_csv('Data/restaurants.csv')"
   ]
  },
  {
   "cell_type": "code",
   "execution_count": 30,
   "metadata": {
    "collapsed": false
   },
   "outputs": [
    {
     "data": {
      "text/html": [
       "<div>\n",
       "<table border=\"1\" class=\"dataframe\">\n",
       "  <thead>\n",
       "    <tr style=\"text-align: right;\">\n",
       "      <th></th>\n",
       "      <th>Unnamed: 0</th>\n",
       "      <th>name</th>\n",
       "      <th>url</th>\n",
       "      <th>categories</th>\n",
       "      <th>rating</th>\n",
       "      <th>id</th>\n",
       "      <th>isOpen</th>\n",
       "      <th>tier</th>\n",
       "      <th>address</th>\n",
       "      <th>cc</th>\n",
       "      <th>city</th>\n",
       "      <th>country</th>\n",
       "      <th>crossStreet</th>\n",
       "      <th>distance</th>\n",
       "      <th>formattedAddress</th>\n",
       "      <th>labeledLatLngs</th>\n",
       "      <th>lat</th>\n",
       "      <th>lng</th>\n",
       "      <th>postalCode</th>\n",
       "      <th>state</th>\n",
       "    </tr>\n",
       "  </thead>\n",
       "  <tbody>\n",
       "    <tr>\n",
       "      <th>0</th>\n",
       "      <td>1</td>\n",
       "      <td>Kafana</td>\n",
       "      <td>http://www.kafananyc.com</td>\n",
       "      <td>b'Eastern European Restaurant'</td>\n",
       "      <td>8.9</td>\n",
       "      <td>49e8896cf964a5204e651fe3</td>\n",
       "      <td>False</td>\n",
       "      <td>3</td>\n",
       "      <td>116 Avenue C</td>\n",
       "      <td>US</td>\n",
       "      <td>New York</td>\n",
       "      <td>United States</td>\n",
       "      <td>at E 8th St</td>\n",
       "      <td>312</td>\n",
       "      <td>['116 Avenue C (at E 8th St)', 'New York, NY 1...</td>\n",
       "      <td>[{'lat': 40.72445009594483, 'lng': -73.9786382...</td>\n",
       "      <td>40.724450</td>\n",
       "      <td>-73.978638</td>\n",
       "      <td>10009.0</td>\n",
       "      <td>NY</td>\n",
       "    </tr>\n",
       "    <tr>\n",
       "      <th>1</th>\n",
       "      <td>11</td>\n",
       "      <td>Gruppo</td>\n",
       "      <td>http://www.gruppothincrust.com/</td>\n",
       "      <td>b'Pizza Place'</td>\n",
       "      <td>8.8</td>\n",
       "      <td>3fd66200f964a5203ce51ee3</td>\n",
       "      <td>False</td>\n",
       "      <td>2</td>\n",
       "      <td>98 Avenue B</td>\n",
       "      <td>US</td>\n",
       "      <td>New York</td>\n",
       "      <td>United States</td>\n",
       "      <td>btwn 6th &amp; 7th Sts</td>\n",
       "      <td>499</td>\n",
       "      <td>['98 Avenue B (btwn 6th &amp; 7th Sts)', 'New York...</td>\n",
       "      <td>[{'lat': 40.724949645619056, 'lng': -73.981332...</td>\n",
       "      <td>40.724950</td>\n",
       "      <td>-73.981333</td>\n",
       "      <td>10009.0</td>\n",
       "      <td>NY</td>\n",
       "    </tr>\n",
       "    <tr>\n",
       "      <th>2</th>\n",
       "      <td>12</td>\n",
       "      <td>Ciao For Now</td>\n",
       "      <td>http://ciaofornow.net/?page=home</td>\n",
       "      <td>b'Caf'</td>\n",
       "      <td>8.6</td>\n",
       "      <td>3fd66200f964a5203fe51ee3</td>\n",
       "      <td>False</td>\n",
       "      <td>2</td>\n",
       "      <td>523 E 12th St</td>\n",
       "      <td>US</td>\n",
       "      <td>New York</td>\n",
       "      <td>United States</td>\n",
       "      <td>btwn Avenue B &amp; Avenue A</td>\n",
       "      <td>491</td>\n",
       "      <td>['523 E 12th St (btwn Avenue B &amp; Avenue A)', '...</td>\n",
       "      <td>[{'lat': 40.728625692654504, 'lng': -73.980319...</td>\n",
       "      <td>40.728626</td>\n",
       "      <td>-73.980320</td>\n",
       "      <td>10009.0</td>\n",
       "      <td>NY</td>\n",
       "    </tr>\n",
       "    <tr>\n",
       "      <th>3</th>\n",
       "      <td>16</td>\n",
       "      <td>Eleven B</td>\n",
       "      <td>http://www.elevenbnyc.com</td>\n",
       "      <td>b'Italian Restaurant'</td>\n",
       "      <td>6.5</td>\n",
       "      <td>4ae1b55df964a520df8621e3</td>\n",
       "      <td>False</td>\n",
       "      <td>2</td>\n",
       "      <td>174 Avenue B</td>\n",
       "      <td>US</td>\n",
       "      <td>New York</td>\n",
       "      <td>United States</td>\n",
       "      <td>11th Street</td>\n",
       "      <td>366</td>\n",
       "      <td>['174 Avenue B (11th Street)', 'New York, NY 1...</td>\n",
       "      <td>[{'lat': 40.727518, 'lng': -73.979478, 'label'...</td>\n",
       "      <td>40.727518</td>\n",
       "      <td>-73.979478</td>\n",
       "      <td>10009.0</td>\n",
       "      <td>NY</td>\n",
       "    </tr>\n",
       "    <tr>\n",
       "      <th>4</th>\n",
       "      <td>29</td>\n",
       "      <td>Housewarmings!</td>\n",
       "      <td>NaN</td>\n",
       "      <td>b'Gastropub'</td>\n",
       "      <td>NaN</td>\n",
       "      <td>515392c4e4b0f03a43c69fce</td>\n",
       "      <td>NaN</td>\n",
       "      <td>3</td>\n",
       "      <td>NaN</td>\n",
       "      <td>US</td>\n",
       "      <td>New York</td>\n",
       "      <td>United States</td>\n",
       "      <td>NaN</td>\n",
       "      <td>493</td>\n",
       "      <td>['New York, NY', 'United States']</td>\n",
       "      <td>[{'lat': 40.72523709670373, 'lng': -73.9813471...</td>\n",
       "      <td>40.725237</td>\n",
       "      <td>-73.981347</td>\n",
       "      <td>NaN</td>\n",
       "      <td>NY</td>\n",
       "    </tr>\n",
       "  </tbody>\n",
       "</table>\n",
       "</div>"
      ],
      "text/plain": [
       "   Unnamed: 0            name                               url  \\\n",
       "0           1          Kafana          http://www.kafananyc.com   \n",
       "1          11          Gruppo   http://www.gruppothincrust.com/   \n",
       "2          12    Ciao For Now  http://ciaofornow.net/?page=home   \n",
       "3          16        Eleven B         http://www.elevenbnyc.com   \n",
       "4          29  Housewarmings!                               NaN   \n",
       "\n",
       "                       categories  rating                        id isOpen  \\\n",
       "0  b'Eastern European Restaurant'     8.9  49e8896cf964a5204e651fe3  False   \n",
       "1                  b'Pizza Place'     8.8  3fd66200f964a5203ce51ee3  False   \n",
       "2                          b'Caf'     8.6  3fd66200f964a5203fe51ee3  False   \n",
       "3           b'Italian Restaurant'     6.5  4ae1b55df964a520df8621e3  False   \n",
       "4                    b'Gastropub'     NaN  515392c4e4b0f03a43c69fce    NaN   \n",
       "\n",
       "   tier        address  cc      city        country               crossStreet  \\\n",
       "0     3   116 Avenue C  US  New York  United States               at E 8th St   \n",
       "1     2    98 Avenue B  US  New York  United States        btwn 6th & 7th Sts   \n",
       "2     2  523 E 12th St  US  New York  United States  btwn Avenue B & Avenue A   \n",
       "3     2   174 Avenue B  US  New York  United States               11th Street   \n",
       "4     3            NaN  US  New York  United States                       NaN   \n",
       "\n",
       "   distance                                   formattedAddress  \\\n",
       "0       312  ['116 Avenue C (at E 8th St)', 'New York, NY 1...   \n",
       "1       499  ['98 Avenue B (btwn 6th & 7th Sts)', 'New York...   \n",
       "2       491  ['523 E 12th St (btwn Avenue B & Avenue A)', '...   \n",
       "3       366  ['174 Avenue B (11th Street)', 'New York, NY 1...   \n",
       "4       493                  ['New York, NY', 'United States']   \n",
       "\n",
       "                                      labeledLatLngs        lat        lng  \\\n",
       "0  [{'lat': 40.72445009594483, 'lng': -73.9786382...  40.724450 -73.978638   \n",
       "1  [{'lat': 40.724949645619056, 'lng': -73.981332...  40.724950 -73.981333   \n",
       "2  [{'lat': 40.728625692654504, 'lng': -73.980319...  40.728626 -73.980320   \n",
       "3  [{'lat': 40.727518, 'lng': -73.979478, 'label'...  40.727518 -73.979478   \n",
       "4  [{'lat': 40.72523709670373, 'lng': -73.9813471...  40.725237 -73.981347   \n",
       "\n",
       "   postalCode state  \n",
       "0     10009.0    NY  \n",
       "1     10009.0    NY  \n",
       "2     10009.0    NY  \n",
       "3     10009.0    NY  \n",
       "4         NaN    NY  "
      ]
     },
     "execution_count": 30,
     "metadata": {},
     "output_type": "execute_result"
    }
   ],
   "source": [
    "restaurants.head()"
   ]
  },
  {
   "cell_type": "code",
   "execution_count": 32,
   "metadata": {
    "collapsed": false
   },
   "outputs": [
    {
     "data": {
      "text/html": [
       "<div style=\"width:100%;\"><div style=\"position:relative;width:100%;height:0;padding-bottom:60%;\"><iframe src=\"data:text/html;charset=utf-8;base64,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\" style=\"position:absolute;width:100%;height:100%;left:0;top:0;border:none !important;\" allowfullscreen webkitallowfullscreen mozallowfullscreen></iframe></div></div>"
      ],
      "text/plain": [
       "<folium.folium.Map at 0x110fd2fd0>"
      ]
     },
     "execution_count": 32,
     "metadata": {},
     "output_type": "execute_result"
    }
   ],
   "source": [
    "# Code inspired on material from IBM Workshop by Alex Aklson - https://www.linkedin.com/in/aklson/\n",
    "venues_map = folium.Map(location=[40.724450, -73.978638], zoom_start=15) # generate map\n",
    "\n",
    "# Creating restaurants on map\n",
    "places = folium.map.FeatureGroup()\n",
    "for lat, lng, in zip(restaurants.lat, restaurants.lng):\n",
    "    places.add_child(\n",
    "        folium.features.CircleMarker(\n",
    "            [lat, lng],\n",
    "            radius=5,\n",
    "            color=\"blue\",\n",
    "            fill_color=\"blue\",\n",
    "            fill_opacity=0.6)\n",
    "        )\n",
    "venues_map.add_child(places)\n",
    "\n",
    "\n",
    "# add labels to each point on the map\n",
    "latitudes_list = list(restaurants.lat)\n",
    "longitudes_list = list(restaurants.lng)\n",
    "labels = list(restaurants.name)\n",
    "\n",
    "for lat, lng, label in zip(latitudes_list, longitudes_list, labels):\n",
    "    folium.Marker([lat, lng], popup=label).add_to(venues_map)\n",
    "\n",
    "# display map\n",
    "venues_map"
   ]
  },
  {
   "cell_type": "code",
   "execution_count": null,
   "metadata": {
    "collapsed": true
   },
   "outputs": [],
   "source": []
  }
 ],
 "metadata": {
  "anaconda-cloud": {},
  "kernelspec": {
   "display_name": "Python 2",
   "language": "python",
   "name": "python2"
  },
  "language_info": {
   "codemirror_mode": {
    "name": "ipython",
    "version": 2
   },
   "file_extension": ".py",
   "mimetype": "text/x-python",
   "name": "python",
   "nbconvert_exporter": "python",
   "pygments_lexer": "ipython2",
   "version": "2.7.12"
  }
 },
 "nbformat": 4,
 "nbformat_minor": 1
}
